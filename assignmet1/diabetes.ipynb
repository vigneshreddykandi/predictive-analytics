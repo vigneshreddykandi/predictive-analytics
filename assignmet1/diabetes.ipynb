{
 "cells": [
  {
   "cell_type": "code",
   "execution_count": 6,
   "metadata": {},
   "outputs": [],
   "source": [
    "import matplotlib.pyplot as plt\n",
    "import numpy as np\n",
    "import pandas as pd\n",
    "import seaborn as sns\n",
    "\n",
    "from sklearn import datasets\n",
    "from sklearn.model_selection import train_test_split , KFold\n",
    "from sklearn.preprocessing import Normalizer\n",
    "from sklearn.metrics import accuracy_score\n",
    "from sklearn.neighbors import KNeighborsClassifier\n",
    "\n",
    "from collections import Counter"
   ]
  },
  {
   "cell_type": "code",
   "execution_count": 7,
   "metadata": {},
   "outputs": [],
   "source": [
    "diabetes=pd.read_csv('diabetes.csv')"
   ]
  },
  {
   "cell_type": "markdown",
   "metadata": {},
   "source": [
    "#Split into X and Y"
   ]
  },
  {
   "cell_type": "code",
   "execution_count": 8,
   "metadata": {},
   "outputs": [],
   "source": [
    "x= diabetes.iloc[:, :-1]\n",
    "y= diabetes.iloc[:, -1]"
   ]
  },
  {
   "cell_type": "code",
   "execution_count": 9,
   "metadata": {},
   "outputs": [
    {
     "data": {
      "text/html": [
       "<div>\n",
       "<style scoped>\n",
       "    .dataframe tbody tr th:only-of-type {\n",
       "        vertical-align: middle;\n",
       "    }\n",
       "\n",
       "    .dataframe tbody tr th {\n",
       "        vertical-align: top;\n",
       "    }\n",
       "\n",
       "    .dataframe thead th {\n",
       "        text-align: right;\n",
       "    }\n",
       "</style>\n",
       "<table border=\"1\" class=\"dataframe\">\n",
       "  <thead>\n",
       "    <tr style=\"text-align: right;\">\n",
       "      <th></th>\n",
       "      <th>Pregnancies</th>\n",
       "      <th>Glucose</th>\n",
       "      <th>BloodPressure</th>\n",
       "      <th>SkinThickness</th>\n",
       "      <th>Insulin</th>\n",
       "      <th>BMI</th>\n",
       "      <th>DiabetesPedigreeFunction</th>\n",
       "      <th>Age</th>\n",
       "    </tr>\n",
       "  </thead>\n",
       "  <tbody>\n",
       "    <tr>\n",
       "      <th>0</th>\n",
       "      <td>6</td>\n",
       "      <td>148</td>\n",
       "      <td>72</td>\n",
       "      <td>35</td>\n",
       "      <td>0</td>\n",
       "      <td>33.6</td>\n",
       "      <td>0.627</td>\n",
       "      <td>50</td>\n",
       "    </tr>\n",
       "    <tr>\n",
       "      <th>1</th>\n",
       "      <td>1</td>\n",
       "      <td>85</td>\n",
       "      <td>66</td>\n",
       "      <td>29</td>\n",
       "      <td>0</td>\n",
       "      <td>26.6</td>\n",
       "      <td>0.351</td>\n",
       "      <td>31</td>\n",
       "    </tr>\n",
       "    <tr>\n",
       "      <th>2</th>\n",
       "      <td>8</td>\n",
       "      <td>183</td>\n",
       "      <td>64</td>\n",
       "      <td>0</td>\n",
       "      <td>0</td>\n",
       "      <td>23.3</td>\n",
       "      <td>0.672</td>\n",
       "      <td>32</td>\n",
       "    </tr>\n",
       "    <tr>\n",
       "      <th>3</th>\n",
       "      <td>1</td>\n",
       "      <td>89</td>\n",
       "      <td>66</td>\n",
       "      <td>23</td>\n",
       "      <td>94</td>\n",
       "      <td>28.1</td>\n",
       "      <td>0.167</td>\n",
       "      <td>21</td>\n",
       "    </tr>\n",
       "    <tr>\n",
       "      <th>4</th>\n",
       "      <td>0</td>\n",
       "      <td>137</td>\n",
       "      <td>40</td>\n",
       "      <td>35</td>\n",
       "      <td>168</td>\n",
       "      <td>43.1</td>\n",
       "      <td>2.288</td>\n",
       "      <td>33</td>\n",
       "    </tr>\n",
       "  </tbody>\n",
       "</table>\n",
       "</div>"
      ],
      "text/plain": [
       "   Pregnancies  Glucose  BloodPressure  SkinThickness  Insulin   BMI  \\\n",
       "0            6      148             72             35        0  33.6   \n",
       "1            1       85             66             29        0  26.6   \n",
       "2            8      183             64              0        0  23.3   \n",
       "3            1       89             66             23       94  28.1   \n",
       "4            0      137             40             35      168  43.1   \n",
       "\n",
       "   DiabetesPedigreeFunction  Age  \n",
       "0                     0.627   50  \n",
       "1                     0.351   31  \n",
       "2                     0.672   32  \n",
       "3                     0.167   21  \n",
       "4                     2.288   33  "
      ]
     },
     "execution_count": 9,
     "metadata": {},
     "output_type": "execute_result"
    }
   ],
   "source": [
    "x.head()"
   ]
  },
  {
   "cell_type": "code",
   "execution_count": 10,
   "metadata": {},
   "outputs": [
    {
     "data": {
      "text/plain": [
       "0    1\n",
       "1    0\n",
       "2    1\n",
       "3    0\n",
       "4    1\n",
       "Name: Outcome, dtype: int64"
      ]
     },
     "execution_count": 10,
     "metadata": {},
     "output_type": "execute_result"
    }
   ],
   "source": [
    "y.head()"
   ]
  },
  {
   "cell_type": "markdown",
   "metadata": {},
   "source": [
    "#Split into training and testing\n"
   ]
  },
  {
   "cell_type": "code",
   "execution_count": 11,
   "metadata": {},
   "outputs": [],
   "source": [
    "# split the data into train and test sets\n",
    "x_train, x_test, y_train, y_test= train_test_split(x, y,\n",
    "                                                   test_size= 0.2,\n",
    "                                                   shuffle= True, #shuffle the data to avoid bias\n",
    "                                                   random_state= 0)\n",
    "x_train= np.asarray(x_train)\n",
    "y_train= np.asarray(y_train)\n",
    "\n",
    "x_test= np.asarray(x_test)\n",
    "y_test= np.asarray(y_test)\n",
    "\n"
   ]
  },
  {
   "cell_type": "code",
   "execution_count": 12,
   "metadata": {},
   "outputs": [
    {
     "name": "stdout",
     "output_type": "stream",
     "text": [
      "training set size: 614 samples \n",
      "test set size: 154 samples\n"
     ]
    }
   ],
   "source": [
    "print(f'training set size: {x_train.shape[0]} samples \\ntest set size: {x_test.shape[0]} samples')\n"
   ]
  },
  {
   "cell_type": "markdown",
   "metadata": {},
   "source": [
    "#Normalize the Dataset"
   ]
  },
  {
   "cell_type": "code",
   "execution_count": 13,
   "metadata": {},
   "outputs": [],
   "source": [
    "scaler= Normalizer().fit(x_train) # the scaler is fitted to the training set\n",
    "normalized_x_train= scaler.transform(x_train) # the scaler is applied to the training set\n",
    "normalized_x_test= scaler.transform(x_test) # the scaler is applied to the test set"
   ]
  },
  {
   "cell_type": "code",
   "execution_count": 14,
   "metadata": {},
   "outputs": [
    {
     "name": "stdout",
     "output_type": "stream",
     "text": [
      "x train before Normalization\n",
      "[[7.00e+00 1.50e+02 7.80e+01 2.90e+01 1.26e+02 3.52e+01 6.92e-01 5.40e+01]\n",
      " [4.00e+00 9.70e+01 6.00e+01 2.30e+01 0.00e+00 2.82e+01 4.43e-01 2.20e+01]\n",
      " [0.00e+00 1.65e+02 9.00e+01 3.30e+01 6.80e+02 5.23e+01 4.27e-01 2.30e+01]\n",
      " [1.00e+00 1.09e+02 5.60e+01 2.10e+01 1.35e+02 2.52e+01 8.33e-01 2.30e+01]\n",
      " [8.00e+00 1.20e+02 0.00e+00 0.00e+00 0.00e+00 3.00e+01 1.83e-01 3.80e+01]]\n",
      "\n",
      "x train after Normalization\n",
      "[[3.14609065e-02 6.74162282e-01 3.50564386e-01 1.30338041e-01\n",
      "  5.66296317e-01 1.58203415e-01 3.11013533e-03 2.42698421e-01]\n",
      " [3.28427192e-02 7.96435940e-01 4.92640787e-01 1.88845635e-01\n",
      "  0.00000000e+00 2.31541170e-01 3.63733115e-03 1.80634955e-01]\n",
      " [0.00000000e+00 2.32861743e-01 1.27015496e-01 4.65723486e-02\n",
      "  9.59672638e-01 7.38101161e-02 6.02617965e-04 3.24595157e-02]\n",
      " [5.35681315e-03 5.83892633e-01 2.99981536e-01 1.12493076e-01\n",
      "  7.23169775e-01 1.34991691e-01 4.46222535e-03 1.23206702e-01]\n",
      " [6.17065882e-02 9.25598823e-01 0.00000000e+00 0.00000000e+00\n",
      "  0.00000000e+00 2.31399706e-01 1.41153821e-03 2.93106294e-01]]\n"
     ]
    }
   ],
   "source": [
    "print('x train before Normalization')\n",
    "print(x_train[0:5])\n",
    "print('\\nx train after Normalization')\n",
    "print(normalized_x_train[0:5])"
   ]
  },
  {
   "cell_type": "markdown",
   "metadata": {},
   "source": [
    "#KNN Step 1 (Euclidean Distance)"
   ]
  },
  {
   "cell_type": "code",
   "execution_count": 16,
   "metadata": {},
   "outputs": [],
   "source": [
    "def distance_ecu(x_train, x_test_point):\n",
    "  \"\"\"\n",
    "  Input:\n",
    "    - x_train: corresponding to the training data\n",
    "    - x_test_point: corresponding to the test point\n",
    "\n",
    "  Output:\n",
    "    -distances: The distances between the test point and each point in the training data.\n",
    "\n",
    "  \"\"\"\n",
    "  distances= []  ## create empty list called distances\n",
    "  for row in range(len(x_train)): ## Loop over the rows of x_train\n",
    "      current_train_point= x_train[row] #Get them point by point\n",
    "      current_distance= 0 ## initialize the distance by zero\n",
    "\n",
    "      for col in range(len(current_train_point)): ## Loop over the columns of the row\n",
    "          \n",
    "          current_distance += (current_train_point[col] - x_test_point[col]) **2\n",
    "          ## Or current_distance = current_distance + (x_train[i] - x_test_point[i])**2\n",
    "      current_distance= np.sqrt(current_distance)\n",
    "\n",
    "      distances.append(current_distance) ## Append the distances\n",
    "\n",
    "  # Store distances in a dataframe\n",
    "  distances= pd.DataFrame(data=distances,columns=['dist'])\n",
    "  return distances"
   ]
  },
  {
   "cell_type": "markdown",
   "metadata": {},
   "source": [
    "#KNN Step 2 (Find the nearest neighbors)\n"
   ]
  },
  {
   "cell_type": "code",
   "execution_count": 17,
   "metadata": {},
   "outputs": [],
   "source": [
    "def nearest_neighbors(distance_point, K):\n",
    "    \"\"\"\n",
    "    Input:\n",
    "        -distance_point: the distances between the test point and each point in the training data.\n",
    "        -K             : the number of neighbors\n",
    "\n",
    "    Output:\n",
    "        -df_nearest: the nearest K neighbors between the test point and the training data.\n",
    "\n",
    "    \"\"\"\n",
    "\n",
    "    # Sort values using the sort_values function\n",
    "    df_nearest= distance_point.sort_values(by=['dist'], axis=0)\n",
    "\n",
    "    ## Take only the first K neighbors\n",
    "    df_nearest= df_nearest[:K]\n",
    "    return df_nearest"
   ]
  },
  {
   "cell_type": "markdown",
   "metadata": {},
   "source": [
    "#KNN Step 3 (Classify the point based on a majority vote)\n"
   ]
  },
  {
   "cell_type": "code",
   "execution_count": 18,
   "metadata": {},
   "outputs": [],
   "source": [
    "def voting(df_nearest, y_train):\n",
    "    \"\"\"\n",
    "    Input:\n",
    "        -df_nearest: dataframe contains the nearest K neighbors between the full training dataset and the test point.\n",
    "        -y_train: the labels of the training dataset.\n",
    "\n",
    "    Output:\n",
    "        -y_pred: the prediction based on Majority Voting\n",
    "\n",
    "    \"\"\"\n",
    "\n",
    "    ## Use the Counter Object to get the labels with K nearest neighbors.\n",
    "    counter_vote= Counter(y_train[df_nearest.index])\n",
    "\n",
    "    y_pred= counter_vote.most_common()[0][0]   # Majority Voting\n",
    "\n",
    "    return y_pred"
   ]
  },
  {
   "cell_type": "markdown",
   "metadata": {},
   "source": [
    "#KNN Full Algorithm: Putting Everything Together\n"
   ]
  },
  {
   "cell_type": "code",
   "execution_count": 19,
   "metadata": {},
   "outputs": [],
   "source": [
    "def KNN_from_scratch(x_train, y_train, x_test, K):\n",
    "\n",
    "    \"\"\"\n",
    "    Input:\n",
    "    -x_train: the full training dataset\n",
    "    -y_train: the labels of the training dataset\n",
    "    -x_test: the full test dataset\n",
    "    -K: the number of neighbors\n",
    "\n",
    "    Output:\n",
    "    -y_pred: the prediction for the whole test set based on Majority Voting.\n",
    "\n",
    "    \"\"\"\n",
    "\n",
    "    y_pred=[]\n",
    "\n",
    "    ## Loop over all the test set and perform the three steps\n",
    "    for x_test_point in x_test:\n",
    "      distance_point  = distance_ecu(x_train, x_test_point)  ## Step 1\n",
    "      df_nearest_point= nearest_neighbors(distance_point, K)  ## Step 2\n",
    "      y_pred_point    = voting(df_nearest_point, y_train) ## Step 3\n",
    "      y_pred.append(y_pred_point)\n",
    "\n",
    "    return y_pred  "
   ]
  },
  {
   "cell_type": "markdown",
   "metadata": {},
   "source": [
    "#Test the KNN Algorithm on the test dataset\n"
   ]
  },
  {
   "cell_type": "code",
   "execution_count": 20,
   "metadata": {},
   "outputs": [
    {
     "name": "stdout",
     "output_type": "stream",
     "text": [
      "[1, 0, 0, 0, 0, 0, 1, 1, 1, 0, 1, 0, 0, 1, 1, 0, 1, 0, 0, 1, 0, 0, 0, 0, 0, 1, 0, 0, 0, 0, 1, 0, 0, 1, 1, 0, 1, 0, 1, 0, 0, 0, 0, 0, 1, 0, 0, 0, 0, 0, 0, 1, 1, 0, 1, 1, 0, 0, 1, 0, 1, 1, 0, 1, 0, 0, 0, 0, 1, 1, 0, 1, 0, 0, 1, 0, 0, 0, 1, 0, 1, 0, 0, 0, 0, 0, 0, 1, 0, 0, 0, 0, 1, 0, 0, 0, 0, 1, 0, 1, 0, 0, 0, 0, 1, 1, 0, 1, 0, 0, 0, 0, 1, 0, 1, 0, 0, 1, 0, 0, 0, 1, 1, 0, 1, 0, 0, 0, 0, 0, 1, 0, 0, 0, 0, 1, 1, 0, 1, 1, 0, 0, 0, 0, 1, 0, 0, 1, 0, 1, 0, 0, 0, 0]\n"
     ]
    }
   ],
   "source": [
    "K=3\n",
    "y_pred_scratch= KNN_from_scratch(normalized_x_train, y_train, normalized_x_test, K)\n",
    "print(y_pred_scratch)"
   ]
  },
  {
   "cell_type": "markdown",
   "metadata": {},
   "source": [
    "#Compare our implementation with Sklearn library"
   ]
  },
  {
   "cell_type": "code",
   "execution_count": 21,
   "metadata": {},
   "outputs": [
    {
     "name": "stdout",
     "output_type": "stream",
     "text": [
      "[1 0 0 0 0 0 1 1 1 0 1 0 0 1 1 0 1 0 0 1 0 0 0 0 0 1 0 0 0 0 1 0 0 1 1 0 1\n",
      " 0 1 0 0 0 0 0 1 0 0 0 0 0 0 1 1 0 1 1 0 0 1 0 1 1 0 1 0 0 0 0 1 1 0 1 0 0\n",
      " 1 0 0 0 1 0 1 0 0 0 0 0 0 1 0 0 0 0 1 0 0 0 0 1 0 1 0 0 0 0 1 1 0 1 0 0 0\n",
      " 0 1 0 1 0 0 1 0 0 0 1 1 0 1 0 0 0 0 0 1 0 0 0 0 1 1 0 1 1 0 0 0 0 1 0 0 1\n",
      " 0 1 0 0 0 0]\n"
     ]
    }
   ],
   "source": [
    "knn=KNeighborsClassifier(K)\n",
    "knn.fit(normalized_x_train, y_train)\n",
    "y_pred_sklearn= knn.predict(normalized_x_test)\n",
    "print(y_pred_sklearn)"
   ]
  },
  {
   "cell_type": "markdown",
   "metadata": {},
   "source": [
    "#Check if the output is exactly the same"
   ]
  },
  {
   "cell_type": "code",
   "execution_count": 22,
   "metadata": {},
   "outputs": [
    {
     "name": "stdout",
     "output_type": "stream",
     "text": [
      "True\n"
     ]
    }
   ],
   "source": [
    "print(np.array_equal(y_pred_sklearn, y_pred_scratch))"
   ]
  },
  {
   "cell_type": "markdown",
   "metadata": {},
   "source": [
    "#Calculate the accuracy of both methods\n"
   ]
  },
  {
   "cell_type": "code",
   "execution_count": 23,
   "metadata": {},
   "outputs": [
    {
     "name": "stdout",
     "output_type": "stream",
     "text": [
      "The accuracy of our implementation is 0.6233766233766234\n",
      "The accuracy of sklearn implementation is 0.6233766233766234\n"
     ]
    }
   ],
   "source": [
    "print(f'The accuracy of our implementation is {accuracy_score(y_test, y_pred_scratch)}')\n",
    "print(f'The accuracy of sklearn implementation is {accuracy_score(y_test, y_pred_sklearn)}')"
   ]
  },
  {
   "cell_type": "markdown",
   "metadata": {},
   "source": [
    "#Perform Hyper-parameter Tuning using K-fold Cross Validation\n"
   ]
  },
  {
   "cell_type": "code",
   "execution_count": 24,
   "metadata": {},
   "outputs": [],
   "source": [
    "n_splits= 4 ## Choose the number of splits\n",
    "kf= KFold(n_splits= n_splits) ## Call the K Fold function\n",
    "\n",
    "accuracy_k= [] ## Keep track of the accuracy for each K\n",
    "k_values= list(range(1,30,2)) ## Search for the best value of K\n",
    "\n",
    "for k in k_values: ## Loop over the K values\n",
    "  accuracy_fold= 0\n",
    "  for normalized_x_train_fold_idx, normalized_x_valid_fold_idx in  kf.split(normalized_x_train): ## Loop over the splits\n",
    "      normalized_x_train_fold= normalized_x_train[normalized_x_train_fold_idx] ## fetch the values\n",
    "      y_train_fold= y_train[normalized_x_train_fold_idx]\n",
    "\n",
    "      normalized_x_test_fold= normalized_x_train[normalized_x_valid_fold_idx]\n",
    "      y_valid_fold= y_train[normalized_x_valid_fold_idx]\n",
    "      y_pred_fold= KNN_from_scratch(normalized_x_train_fold, y_train_fold, normalized_x_test_fold, k)\n",
    "\n",
    "      accuracy_fold+= accuracy_score (y_pred_fold, y_valid_fold) ## Accumulate the accuracy\n",
    "  accuracy_fold= accuracy_fold/ n_splits ## Divide by the number of splits\n",
    "  accuracy_k.append(accuracy_fold)\n",
    "\n",
    "  \n",
    "                                            "
   ]
  },
  {
   "cell_type": "code",
   "execution_count": 25,
   "metadata": {},
   "outputs": [
    {
     "name": "stdout",
     "output_type": "stream",
     "text": [
      "The accuracy for each K value was [(0.5961081402257873, 1), (0.6417642814701638, 3), (0.658019268313386, 5), (0.6677383074441897, 7), (0.6579768270944741, 9), (0.6531173075290722, 11), (0.6433558271793567, 13), (0.6205224514048043, 15), (0.6400666327136915, 17), (0.6384856973092267, 19), (0.6336155674390969, 21), (0.6319709702062644, 23), (0.6449898141074613, 25), (0.6482365673542144, 27), (0.6628469569646039, 29)]\n"
     ]
    }
   ],
   "source": [
    "print(f'The accuracy for each K value was {list ( zip (accuracy_k, k_values))}') ## creates a tuple with accuracy corresponding to k value\n"
   ]
  },
  {
   "cell_type": "code",
   "execution_count": 26,
   "metadata": {},
   "outputs": [
    {
     "name": "stdout",
     "output_type": "stream",
     "text": [
      "Best accuracy was 0.6677383074441897, which corresponds to a value of K= 7\n"
     ]
    }
   ],
   "source": [
    "print(f'Best accuracy was {np.max(accuracy_k)}, which corresponds to a value of K= {k_values[np.argmax(accuracy_k)]}')\n"
   ]
  }
 ],
 "metadata": {
  "kernelspec": {
   "display_name": "Python 3.10.6 64-bit",
   "language": "python",
   "name": "python3"
  },
  "language_info": {
   "codemirror_mode": {
    "name": "ipython",
    "version": 3
   },
   "file_extension": ".py",
   "mimetype": "text/x-python",
   "name": "python",
   "nbconvert_exporter": "python",
   "pygments_lexer": "ipython3",
   "version": "3.10.6"
  },
  "orig_nbformat": 4,
  "vscode": {
   "interpreter": {
    "hash": "aee8b7b246df8f9039afb4144a1f6fd8d2ca17a180786b69acc140d282b71a49"
   }
  }
 },
 "nbformat": 4,
 "nbformat_minor": 2
}
