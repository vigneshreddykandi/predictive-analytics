{
 "cells": [
  {
   "cell_type": "markdown",
   "metadata": {},
   "source": [
    "Importing libraries and defining dataset"
   ]
  },
  {
   "cell_type": "code",
   "execution_count": 27,
   "metadata": {},
   "outputs": [
    {
     "data": {
      "text/html": [
       "<div>\n",
       "<style scoped>\n",
       "    .dataframe tbody tr th:only-of-type {\n",
       "        vertical-align: middle;\n",
       "    }\n",
       "\n",
       "    .dataframe tbody tr th {\n",
       "        vertical-align: top;\n",
       "    }\n",
       "\n",
       "    .dataframe thead th {\n",
       "        text-align: right;\n",
       "    }\n",
       "</style>\n",
       "<table border=\"1\" class=\"dataframe\">\n",
       "  <thead>\n",
       "    <tr style=\"text-align: right;\">\n",
       "      <th></th>\n",
       "      <th>GallonsPer100Miles</th>\n",
       "      <th>GallonsPer100MilesTo1981</th>\n",
       "      <th>MPG</th>\n",
       "      <th>Cylinders</th>\n",
       "      <th>Displacement100ci</th>\n",
       "      <th>Horsepower100</th>\n",
       "      <th>Weight1000lb</th>\n",
       "      <th>Seconds0to60</th>\n",
       "      <th>Year</th>\n",
       "      <th>Year70To81</th>\n",
       "      <th>Origin</th>\n",
       "      <th>Origin.Eq.1</th>\n",
       "      <th>Origin.Eq.2</th>\n",
       "      <th>Origin.Eq.3</th>\n",
       "      <th>Name</th>\n",
       "    </tr>\n",
       "  </thead>\n",
       "  <tbody>\n",
       "    <tr>\n",
       "      <th>0</th>\n",
       "      <td>5.555556</td>\n",
       "      <td>5.555556</td>\n",
       "      <td>18.0</td>\n",
       "      <td>8</td>\n",
       "      <td>3.07</td>\n",
       "      <td>1.30</td>\n",
       "      <td>3.504</td>\n",
       "      <td>12.0</td>\n",
       "      <td>70</td>\n",
       "      <td>1</td>\n",
       "      <td>1</td>\n",
       "      <td>1</td>\n",
       "      <td>0</td>\n",
       "      <td>0</td>\n",
       "      <td>chevrolet chevelle malibu</td>\n",
       "    </tr>\n",
       "    <tr>\n",
       "      <th>1</th>\n",
       "      <td>6.666667</td>\n",
       "      <td>6.666667</td>\n",
       "      <td>15.0</td>\n",
       "      <td>8</td>\n",
       "      <td>3.50</td>\n",
       "      <td>1.65</td>\n",
       "      <td>3.693</td>\n",
       "      <td>11.5</td>\n",
       "      <td>70</td>\n",
       "      <td>1</td>\n",
       "      <td>1</td>\n",
       "      <td>1</td>\n",
       "      <td>0</td>\n",
       "      <td>0</td>\n",
       "      <td>buick skylark 320</td>\n",
       "    </tr>\n",
       "    <tr>\n",
       "      <th>2</th>\n",
       "      <td>5.555556</td>\n",
       "      <td>5.555556</td>\n",
       "      <td>18.0</td>\n",
       "      <td>8</td>\n",
       "      <td>3.18</td>\n",
       "      <td>1.50</td>\n",
       "      <td>3.436</td>\n",
       "      <td>11.0</td>\n",
       "      <td>70</td>\n",
       "      <td>1</td>\n",
       "      <td>1</td>\n",
       "      <td>1</td>\n",
       "      <td>0</td>\n",
       "      <td>0</td>\n",
       "      <td>plymouth satellite</td>\n",
       "    </tr>\n",
       "    <tr>\n",
       "      <th>3</th>\n",
       "      <td>6.250000</td>\n",
       "      <td>6.250000</td>\n",
       "      <td>16.0</td>\n",
       "      <td>8</td>\n",
       "      <td>3.04</td>\n",
       "      <td>1.50</td>\n",
       "      <td>3.433</td>\n",
       "      <td>12.0</td>\n",
       "      <td>70</td>\n",
       "      <td>1</td>\n",
       "      <td>1</td>\n",
       "      <td>1</td>\n",
       "      <td>0</td>\n",
       "      <td>0</td>\n",
       "      <td>amc rebel sst</td>\n",
       "    </tr>\n",
       "    <tr>\n",
       "      <th>4</th>\n",
       "      <td>5.882353</td>\n",
       "      <td>5.882353</td>\n",
       "      <td>17.0</td>\n",
       "      <td>8</td>\n",
       "      <td>3.02</td>\n",
       "      <td>1.40</td>\n",
       "      <td>3.449</td>\n",
       "      <td>10.5</td>\n",
       "      <td>70</td>\n",
       "      <td>1</td>\n",
       "      <td>1</td>\n",
       "      <td>1</td>\n",
       "      <td>0</td>\n",
       "      <td>0</td>\n",
       "      <td>ford torino</td>\n",
       "    </tr>\n",
       "  </tbody>\n",
       "</table>\n",
       "</div>"
      ],
      "text/plain": [
       "   GallonsPer100Miles  GallonsPer100MilesTo1981   MPG  Cylinders  \\\n",
       "0            5.555556                  5.555556  18.0          8   \n",
       "1            6.666667                  6.666667  15.0          8   \n",
       "2            5.555556                  5.555556  18.0          8   \n",
       "3            6.250000                  6.250000  16.0          8   \n",
       "4            5.882353                  5.882353  17.0          8   \n",
       "\n",
       "   Displacement100ci  Horsepower100  Weight1000lb  Seconds0to60  Year  \\\n",
       "0               3.07           1.30         3.504          12.0    70   \n",
       "1               3.50           1.65         3.693          11.5    70   \n",
       "2               3.18           1.50         3.436          11.0    70   \n",
       "3               3.04           1.50         3.433          12.0    70   \n",
       "4               3.02           1.40         3.449          10.5    70   \n",
       "\n",
       "   Year70To81  Origin  Origin.Eq.1  Origin.Eq.2  Origin.Eq.3  \\\n",
       "0           1       1            1            0            0   \n",
       "1           1       1            1            0            0   \n",
       "2           1       1            1            0            0   \n",
       "3           1       1            1            0            0   \n",
       "4           1       1            1            0            0   \n",
       "\n",
       "                        Name  \n",
       "0  chevrolet chevelle malibu  \n",
       "1          buick skylark 320  \n",
       "2         plymouth satellite  \n",
       "3              amc rebel sst  \n",
       "4                ford torino  "
      ]
     },
     "execution_count": 27,
     "metadata": {},
     "output_type": "execute_result"
    }
   ],
   "source": [
    "import pandas as pd\n",
    "import numpy as np\n",
    "import matplotlib.pyplot as plt\n",
    "from sklearn import linear_model\n",
    "from sklearn.metrics import mean_squared_error, r2_score\n",
    "\n",
    "\n",
    "df = pd.read_excel(\"autoMPG_data.xlsx\")\n",
    "df.head()"
   ]
  },
  {
   "cell_type": "markdown",
   "metadata": {},
   "source": [
    "Removing unused columns"
   ]
  },
  {
   "cell_type": "code",
   "execution_count": 28,
   "metadata": {},
   "outputs": [
    {
     "data": {
      "text/html": [
       "<div>\n",
       "<style scoped>\n",
       "    .dataframe tbody tr th:only-of-type {\n",
       "        vertical-align: middle;\n",
       "    }\n",
       "\n",
       "    .dataframe tbody tr th {\n",
       "        vertical-align: top;\n",
       "    }\n",
       "\n",
       "    .dataframe thead th {\n",
       "        text-align: right;\n",
       "    }\n",
       "</style>\n",
       "<table border=\"1\" class=\"dataframe\">\n",
       "  <thead>\n",
       "    <tr style=\"text-align: right;\">\n",
       "      <th></th>\n",
       "      <th>GallonsPer100Miles</th>\n",
       "      <th>Cylinders</th>\n",
       "      <th>Displacement100ci</th>\n",
       "      <th>Horsepower100</th>\n",
       "      <th>Weight1000lb</th>\n",
       "      <th>Year</th>\n",
       "    </tr>\n",
       "  </thead>\n",
       "  <tbody>\n",
       "    <tr>\n",
       "      <th>0</th>\n",
       "      <td>5.555556</td>\n",
       "      <td>8</td>\n",
       "      <td>3.07</td>\n",
       "      <td>1.30</td>\n",
       "      <td>3.504</td>\n",
       "      <td>70</td>\n",
       "    </tr>\n",
       "    <tr>\n",
       "      <th>1</th>\n",
       "      <td>6.666667</td>\n",
       "      <td>8</td>\n",
       "      <td>3.50</td>\n",
       "      <td>1.65</td>\n",
       "      <td>3.693</td>\n",
       "      <td>70</td>\n",
       "    </tr>\n",
       "    <tr>\n",
       "      <th>2</th>\n",
       "      <td>5.555556</td>\n",
       "      <td>8</td>\n",
       "      <td>3.18</td>\n",
       "      <td>1.50</td>\n",
       "      <td>3.436</td>\n",
       "      <td>70</td>\n",
       "    </tr>\n",
       "    <tr>\n",
       "      <th>3</th>\n",
       "      <td>6.250000</td>\n",
       "      <td>8</td>\n",
       "      <td>3.04</td>\n",
       "      <td>1.50</td>\n",
       "      <td>3.433</td>\n",
       "      <td>70</td>\n",
       "    </tr>\n",
       "    <tr>\n",
       "      <th>4</th>\n",
       "      <td>5.882353</td>\n",
       "      <td>8</td>\n",
       "      <td>3.02</td>\n",
       "      <td>1.40</td>\n",
       "      <td>3.449</td>\n",
       "      <td>70</td>\n",
       "    </tr>\n",
       "    <tr>\n",
       "      <th>...</th>\n",
       "      <td>...</td>\n",
       "      <td>...</td>\n",
       "      <td>...</td>\n",
       "      <td>...</td>\n",
       "      <td>...</td>\n",
       "      <td>...</td>\n",
       "    </tr>\n",
       "    <tr>\n",
       "      <th>387</th>\n",
       "      <td>3.703704</td>\n",
       "      <td>4</td>\n",
       "      <td>1.40</td>\n",
       "      <td>0.86</td>\n",
       "      <td>2.790</td>\n",
       "      <td>82</td>\n",
       "    </tr>\n",
       "    <tr>\n",
       "      <th>388</th>\n",
       "      <td>2.272727</td>\n",
       "      <td>4</td>\n",
       "      <td>0.97</td>\n",
       "      <td>0.52</td>\n",
       "      <td>2.130</td>\n",
       "      <td>82</td>\n",
       "    </tr>\n",
       "    <tr>\n",
       "      <th>389</th>\n",
       "      <td>3.125000</td>\n",
       "      <td>4</td>\n",
       "      <td>1.35</td>\n",
       "      <td>0.84</td>\n",
       "      <td>2.295</td>\n",
       "      <td>82</td>\n",
       "    </tr>\n",
       "    <tr>\n",
       "      <th>390</th>\n",
       "      <td>3.571429</td>\n",
       "      <td>4</td>\n",
       "      <td>1.20</td>\n",
       "      <td>0.79</td>\n",
       "      <td>2.625</td>\n",
       "      <td>82</td>\n",
       "    </tr>\n",
       "    <tr>\n",
       "      <th>391</th>\n",
       "      <td>3.225806</td>\n",
       "      <td>4</td>\n",
       "      <td>1.19</td>\n",
       "      <td>0.82</td>\n",
       "      <td>2.720</td>\n",
       "      <td>82</td>\n",
       "    </tr>\n",
       "  </tbody>\n",
       "</table>\n",
       "<p>392 rows × 6 columns</p>\n",
       "</div>"
      ],
      "text/plain": [
       "     GallonsPer100Miles  Cylinders  Displacement100ci  Horsepower100  \\\n",
       "0              5.555556          8               3.07           1.30   \n",
       "1              6.666667          8               3.50           1.65   \n",
       "2              5.555556          8               3.18           1.50   \n",
       "3              6.250000          8               3.04           1.50   \n",
       "4              5.882353          8               3.02           1.40   \n",
       "..                  ...        ...                ...            ...   \n",
       "387            3.703704          4               1.40           0.86   \n",
       "388            2.272727          4               0.97           0.52   \n",
       "389            3.125000          4               1.35           0.84   \n",
       "390            3.571429          4               1.20           0.79   \n",
       "391            3.225806          4               1.19           0.82   \n",
       "\n",
       "     Weight1000lb  Year  \n",
       "0           3.504    70  \n",
       "1           3.693    70  \n",
       "2           3.436    70  \n",
       "3           3.433    70  \n",
       "4           3.449    70  \n",
       "..            ...   ...  \n",
       "387         2.790    82  \n",
       "388         2.130    82  \n",
       "389         2.295    82  \n",
       "390         2.625    82  \n",
       "391         2.720    82  \n",
       "\n",
       "[392 rows x 6 columns]"
      ]
     },
     "execution_count": 28,
     "metadata": {},
     "output_type": "execute_result"
    }
   ],
   "source": [
    "df = df.drop(['GallonsPer100MilesTo1981','MPG','Seconds0to60','Year70To81','Origin','Origin.Eq.1','Origin.Eq.2','Origin.Eq.3','Name'], axis=1)\n",
    "df"
   ]
  },
  {
   "cell_type": "markdown",
   "metadata": {},
   "source": [
    "Creating linear regression model"
   ]
  },
  {
   "cell_type": "code",
   "execution_count": 29,
   "metadata": {},
   "outputs": [
    {
     "name": "stdout",
     "output_type": "stream",
     "text": [
      "LinearRegression()\n"
     ]
    }
   ],
   "source": [
    "reg = linear_model.LinearRegression()\n",
    "reg.fit(df[['Cylinders','Displacement100ci','Horsepower100','Weight1000lb','Year']], df.GallonsPer100Miles)\n",
    "print(reg)"
   ]
  },
  {
   "cell_type": "markdown",
   "metadata": {},
   "source": [
    "corelations for all variables"
   ]
  },
  {
   "cell_type": "code",
   "execution_count": 30,
   "metadata": {},
   "outputs": [
    {
     "name": "stdout",
     "output_type": "stream",
     "text": [
      "coefficients: \n",
      " [ 0.13371072 -0.1973791   0.84659195  1.21643552 -0.1279646 ]\n"
     ]
    }
   ],
   "source": [
    "print(\"coefficients: \\n\", reg.coef_)"
   ]
  },
  {
   "cell_type": "markdown",
   "metadata": {},
   "source": [
    "Determining the best variable based on coefficients and Intercept"
   ]
  },
  {
   "cell_type": "code",
   "execution_count": 31,
   "metadata": {},
   "outputs": [],
   "source": [
    "X = df['Weight1000lb'].to_frame()\n",
    "y = df['GallonsPer100Miles']\n",
    "\n",
    "Weight_model = linear_model.LinearRegression().fit(X.values,y)"
   ]
  },
  {
   "cell_type": "code",
   "execution_count": 32,
   "metadata": {},
   "outputs": [],
   "source": [
    "X = df['Cylinders'].to_frame()\n",
    "Cylinders_model = linear_model.LinearRegression().fit(X.values,y)"
   ]
  },
  {
   "cell_type": "code",
   "execution_count": 33,
   "metadata": {},
   "outputs": [],
   "source": [
    "X = df['Horsepower100'].to_frame()\n",
    "\n",
    "HorsePower_model = linear_model.LinearRegression().fit(X.values,y)"
   ]
  },
  {
   "cell_type": "code",
   "execution_count": 34,
   "metadata": {},
   "outputs": [
    {
     "name": "stdout",
     "output_type": "stream",
     "text": [
      "Weight :       // Coefficients:  [1.73378735] Intercept:   -0.3802549901551373\n",
      "HorsePower :       // Coefficients:  [3.69527283] Intercept:   0.9218138877684874\n",
      "Cylinders :       // Coefficients:  [0.81879613] Intercept:   0.30184050062373124\n"
     ]
    }
   ],
   "source": [
    "print(\"Weight :       // Coefficients: \", Weight_model.coef_, \"Intercept:  \",Weight_model.intercept_)\n",
    "print(\"HorsePower :       // Coefficients: \", HorsePower_model.coef_, \"Intercept:  \",HorsePower_model.intercept_)\n",
    "print(\"Cylinders :       // Coefficients: \", Cylinders_model.coef_, \"Intercept:  \",Cylinders_model.intercept_)\n",
    "\n"
   ]
  },
  {
   "cell_type": "markdown",
   "metadata": {},
   "source": [
    "Making predections"
   ]
  },
  {
   "cell_type": "code",
   "execution_count": 35,
   "metadata": {},
   "outputs": [
    {
     "name": "stdout",
     "output_type": "stream",
     "text": [
      "Fuel consuption =  [12.00763238]\n"
     ]
    }
   ],
   "source": [
    "print(\"Fuel consuption = \", HorsePower_model.predict(pd.DataFrame([3])))"
   ]
  },
  {
   "cell_type": "code",
   "execution_count": 36,
   "metadata": {},
   "outputs": [
    {
     "name": "stdout",
     "output_type": "stream",
     "text": [
      "Fuel consuption =  [7.01901406]\n"
     ]
    }
   ],
   "source": [
    "print(\"Fuel consuption = \", HorsePower_model.predict(pd.DataFrame([1.65])))"
   ]
  },
  {
   "cell_type": "markdown",
   "metadata": {},
   "source": [
    "Plot model error terms as scatterplot"
   ]
  },
  {
   "cell_type": "code",
   "execution_count": 37,
   "metadata": {},
   "outputs": [
    {
     "data": {
      "text/plain": [
       "<matplotlib.collections.LineCollection at 0x288eaef20>"
      ]
     },
     "execution_count": 37,
     "metadata": {},
     "output_type": "execute_result"
    },
    {
     "data": {
      "image/png": "[encoded data removed]",
      "text/plain": [
       "<Figure size 640x480 with 1 Axes>"
      ]
     },
     "metadata": {},
     "output_type": "display_data"
    }
   ],
   "source": [
    "plt.scatter(HorsePower_model.predict(X.values), HorsePower_model.predict(X.values)-y)\n",
    "plt.hlines(y=0,xmin=2,xmax=10)"
   ]
  },
  {
   "cell_type": "code",
   "execution_count": 38,
   "metadata": {},
   "outputs": [
    {
     "name": "stdout",
     "output_type": "stream",
     "text": [
      "This model explains 73.06976406434582 % of fuel consumption\n"
     ]
    }
   ],
   "source": [
    "print( \"This model explains\", (HorsePower_model.score(X.values,y))*100, \"% of fuel consumption\")"
   ]
  },
  {
   "cell_type": "code",
   "execution_count": 39,
   "metadata": {},
   "outputs": [
    {
     "name": "stdout",
     "output_type": "stream",
     "text": [
      "mean squared error: 25.63\n"
     ]
    }
   ],
   "source": [
    "print(\"mean squared error: %.2f\" %mean_squared_error(HorsePower_model.predict(X.values), HorsePower_model.predict(X.values)-y))"
   ]
  },
  {
   "cell_type": "markdown",
   "metadata": {},
   "source": [
    "Interpolation and Extrapolation range"
   ]
  },
  {
   "cell_type": "code",
   "execution_count": 40,
   "metadata": {},
   "outputs": [
    {
     "data": {
      "text/plain": [
       "<AxesSubplot: >"
      ]
     },
     "execution_count": 40,
     "metadata": {},
     "output_type": "execute_result"
    },
    {
     "data": {
      "image/png": "[encoded data removed]",
      "text/plain": [
       "<Figure size 640x480 with 1 Axes>"
      ]
     },
     "metadata": {},
     "output_type": "display_data"
    }
   ],
   "source": [
    "df['Horsepower100'].hist()"
   ]
  },
  {
   "cell_type": "markdown",
   "metadata": {},
   "source": [
    "Interpolation range"
   ]
  },
  {
   "cell_type": "code",
   "execution_count": 41,
   "metadata": {},
   "outputs": [
    {
     "name": "stdout",
     "output_type": "stream",
     "text": [
      "Fuel consumption =  [5.54090493]\n"
     ]
    }
   ],
   "source": [
    "print(\"Fuel consumption = \", HorsePower_model.predict(pd.DataFrame([1.25])))"
   ]
  },
  {
   "cell_type": "markdown",
   "metadata": {},
   "source": [
    "Extrapolation range"
   ]
  },
  {
   "cell_type": "code",
   "execution_count": 42,
   "metadata": {},
   "outputs": [
    {
     "name": "stdout",
     "output_type": "stream",
     "text": [
      "Fuel consumption =  [1.8456321]\n"
     ]
    }
   ],
   "source": [
    "print(\"Fuel consumption = \", HorsePower_model.predict(pd.DataFrame([0.25])))"
   ]
  }
 ],
 "metadata": {
  "kernelspec": {
   "display_name": "Python 3.10.6 64-bit",
   "language": "python",
   "name": "python3"
  },
  "language_info": {
   "codemirror_mode": {
    "name": "ipython",
    "version": 3
   },
   "file_extension": ".py",
   "mimetype": "text/x-python",
   "name": "python",
   "nbconvert_exporter": "python",
   "pygments_lexer": "ipython3",
   "version": "3.10.6"
  },
  "orig_nbformat": 4,
  "vscode": {
   "interpreter": {
    "hash": "aee8b7b246df8f9039afb4144a1f6fd8d2ca17a180786b69acc140d282b71a49"
   }
  }
 },
 "nbformat": 4,
 "nbformat_minor": 2
}
